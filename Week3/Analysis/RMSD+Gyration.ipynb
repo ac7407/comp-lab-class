{
 "cells": [
  {
   "cell_type": "code",
   "execution_count": null,
   "metadata": {},
   "outputs": [],
   "source": [
    "import matplotlib.pyplot as plt\n",
    "import numpy as np\n",
    "\n",
    "# open RMSD.xvg and RMSD_xtal.xvg and read from line 19\n",
    "rmsd_xtc = np.loadtxt('RMSD.xvg', skiprows=19)\n",
    "rmsd_xtal = np.loadtxt('RMSD_xtal.xvg', skiprows=19)\n",
    "\n",
    "# plot RMSD (nm) from both files vs time (ns)\n",
    "plt.plot(rmsd_xtc[:,0], rmsd_xtc[:,1], label='Ref: Equilibrated', color='blue', linewidth=0.5)\n",
    "plt.plot(rmsd_xtal[:,0], rmsd_xtal[:,1], label='Ref: Crystal', color='red', linewidth=0.5)\n",
    "plt.xlabel('Time (ns)')\n",
    "plt.ylabel('RMSD (nm)')\n",
    "plt.suptitle('RMSD')\n",
    "plt.title('1AKI, Backbone')\n",
    "plt.legend()\n",
    "plt.show()\n",
    "\n",
    "\n",
    "\n"
   ]
  },
  {
   "cell_type": "code",
   "execution_count": null,
   "metadata": {},
   "outputs": [],
   "source": [
    "# open gyrate.xvg and read from line 28\n",
    "gyrate = np.loadtxt('gyrate.xvg', skiprows=28)\n",
    "\n",
    "# plot radius of gyration (nm) vs time (ps)\n",
    "plt.plot(gyrate[:,0], gyrate[:,1], label='Radius of gyration', color='blue')\n",
    "plt.xlabel('Time (ps)')\n",
    "plt.ylabel('Radius of gyration (nm)')\n",
    "plt.suptitle('Radius of gyration')\n",
    "plt.title('1AKI, Unrestrained MD')\n",
    "plt.legend()\n",
    "plt.show()\n",
    "\n"
   ]
  }
 ],
 "metadata": {
  "kernelspec": {
   "display_name": "Python 3.8.9 64-bit",
   "language": "python",
   "name": "python3"
  },
  "language_info": {
   "name": "python",
   "version": "3.8.9"
  },
  "orig_nbformat": 4,
  "vscode": {
   "interpreter": {
    "hash": "31f2aee4e71d21fbe5cf8b01ff0e069b9275f58929596ceb00d14d90e3e16cd6"
   }
  }
 },
 "nbformat": 4,
 "nbformat_minor": 2
}
