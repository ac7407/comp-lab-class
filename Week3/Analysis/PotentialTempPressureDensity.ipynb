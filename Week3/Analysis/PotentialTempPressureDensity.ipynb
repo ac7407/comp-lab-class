{
 "cells": [
  {
   "cell_type": "code",
   "execution_count": null,
   "metadata": {},
   "outputs": [],
   "source": [
    "import matplotlib.pyplot as plt\n",
    "import numpy as np\n",
    "\n",
    "# open potential.xvg file and read from line 25\n",
    "with open('potential.xvg', 'r') as f:\n",
    "    lines = f.readlines()[25:]\n",
    "    lines = [line.split() for line in lines]\n",
    "    lines = [[float(i) for i in line] for line in lines]\n",
    "\n",
    "# plot potential energy (kJ/mol) vs energy minimization step graph\n",
    "plt.plot([line[0] for line in lines], [line[1] for line in lines])\n",
    "plt.xlabel('Energy Minimization Step')\n",
    "plt.ylabel('Potential Energy (kJ/mol)')\n",
    "plt.title('1AKI, Steepest Descent')\n",
    "plt.suptitle('Energy Minimization')\n",
    "plt.show()"
   ]
  },
  {
   "cell_type": "code",
   "execution_count": null,
   "metadata": {},
   "outputs": [],
   "source": [
    "# open temperature.xvg file and read from line 25\n",
    "with open('temperature.xvg', 'r') as f:\n",
    "    lines = f.readlines()[25:]\n",
    "    lines = [line.split() for line in lines]\n",
    "    lines = [[float(i) for i in line] for line in lines]\n",
    "\n",
    "# plot temperature (K) vs time (ps) graph\n",
    "plt.plot([line[0] for line in lines], [line[1] for line in lines])\n",
    "plt.xlabel('Time (ps)')\n",
    "plt.ylabel('Temperature (K)')\n",
    "plt.title('1AKI, NVT Equilibration')\n",
    "plt.suptitle('Temperature')\n",
    "plt.show()\n"
   ]
  },
  {
   "cell_type": "code",
   "execution_count": null,
   "metadata": {},
   "outputs": [],
   "source": [
    "# open pressure.xvg file and read from line 25\n",
    "with open('pressure.xvg', 'r') as f:\n",
    "    lines = f.readlines()[25:]\n",
    "    lines = [line.split() for line in lines]\n",
    "    lines = [[float(i) for i in line] for line in lines]\n",
    "\n",
    "# plot pressure (bar) vs time (ps) graph and 10ps moving average\n",
    "# add legend\n",
    "plt.plot([line[0] for line in lines], [line[1] for line in lines], color='blue', label='Pressure')\n",
    "plt.plot([line[0] for line in lines], [np.mean([line[1] for line in lines[i:i+10]]) for i in range(len(lines))], color='red', label='10ps Moving Average')\n",
    "plt.xlabel('Time (ps)')\n",
    "plt.ylabel('Pressure (bar)')\n",
    "plt.title('1AKI, NPT Equilibration')\n",
    "plt.suptitle('Pressure')\n",
    "plt.legend()\n",
    "plt.show()\n",
    "\n"
   ]
  },
  {
   "cell_type": "code",
   "execution_count": null,
   "metadata": {},
   "outputs": [],
   "source": [
    "# open density.xvg file and read from line 25\n",
    "with open('density.xvg', 'r') as f:\n",
    "    lines = f.readlines()[25:]\n",
    "    lines = [line.split() for line in lines]\n",
    "    lines = [[float(i) for i in line] for line in lines]\n",
    "\n",
    "# plot density (kg/m^3) vs time (ps) graph and 10ps moving average\n",
    "# add legend\n",
    "plt.plot([line[0] for line in lines], [line[1] for line in lines], color='blue', label='Density')\n",
    "plt.plot([line[0] for line in lines], [np.mean([line[1] for line in lines[i:i+10]]) for i in range(len(lines))], color='red', label='10ps Moving Average')\n",
    "plt.xlabel('Time (ps)')\n",
    "plt.ylabel('Density (kg/m^3)')\n",
    "plt.title('1AKI, NPT Equilibration')\n",
    "plt.suptitle('Density')\n",
    "plt.legend()\n",
    "plt.show()\n",
    "\n"
   ]
  }
 ],
 "metadata": {
  "kernelspec": {
   "display_name": "Python 3.8.9 64-bit",
   "language": "python",
   "name": "python3"
  },
  "language_info": {
   "name": "python",
   "version": "3.8.9"
  },
  "orig_nbformat": 4,
  "vscode": {
   "interpreter": {
    "hash": "31f2aee4e71d21fbe5cf8b01ff0e069b9275f58929596ceb00d14d90e3e16cd6"
   }
  }
 },
 "nbformat": 4,
 "nbformat_minor": 2
}
