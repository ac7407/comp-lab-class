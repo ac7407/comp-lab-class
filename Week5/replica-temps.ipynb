{
 "cells": [
  {
   "cell_type": "code",
   "execution_count": null,
   "metadata": {},
   "outputs": [],
   "source": [
    "import matplotlib.pyplot as plt\n",
    "\n",
    "# open replica_temp.xvg file\n",
    "with open('replica_temp.xvg', 'r') as f:\n",
    "    lines = f.readlines()\n",
    "\n",
    "# create lists for time and each replica\n",
    "time = []\n",
    "replica1 = []\n",
    "replica2 = []\n",
    "replica3 = []\n",
    "replica4 = []\n",
    "\n",
    "# iterate every 1000th line (100 ps) and append data to lists\n",
    "for i in range(0, len(lines), 1000):\n",
    "    time.append(float(lines[i].split()[0]))\n",
    "    replica1.append(float(lines[i].split()[1]))\n",
    "    replica2.append(float(lines[i].split()[2]))\n",
    "    replica3.append(float(lines[i].split()[3]))\n",
    "    replica4.append(float(lines[i].split()[4]))\n",
    "\n",
    "# plot temperatures for each replica vs time (ps), dotted lines and different colors\n",
    "plt.plot(replica1, 'r--', label='300K')\n",
    "plt.plot(replica2, 'b--', label='350K')\n",
    "plt.plot(replica3, 'g--', label='400K')\n",
    "plt.plot(replica4, 'y--', label='450K')\n",
    "plt.title('Replica Exchange Simulation Temperatures')\n",
    "plt.xlabel('Time (ps)')\n",
    "plt.ylabel('Reservoir Index')\n",
    "plt.legend()\n",
    "plt.show()\n"
   ]
  }
 ],
 "metadata": {
  "kernelspec": {
   "display_name": "Python 3.8.8 ('base')",
   "language": "python",
   "name": "python3"
  },
  "language_info": {
   "name": "python",
   "version": "3.8.8"
  },
  "orig_nbformat": 4,
  "vscode": {
   "interpreter": {
    "hash": "ad2bdc8ecc057115af97d19610ffacc2b4e99fae6737bb82f5d7fb13d2f2c186"
   }
  }
 },
 "nbformat": 4,
 "nbformat_minor": 2
}
