{
 "cells": [
  {
   "cell_type": "code",
   "execution_count": 1,
   "metadata": {},
   "outputs": [
    {
     "name": "stdout",
     "output_type": "stream",
     "text": [
      "Defaulting to user installation because normal site-packages is not writeable\n",
      "Requirement already satisfied: mdtraj in /home/ac7407/.local/lib/python3.8/site-packages (1.9.7)\n",
      "Requirement already satisfied: numpy>=1.6 in /share/apps/python/3.8.6/intel/lib/python3.8/site-packages/numpy-1.19.2-py3.8-linux-x86_64.egg (from mdtraj) (1.19.2)\n",
      "Requirement already satisfied: pyparsing in /share/apps/python/3.8.6/intel/lib/python3.8/site-packages (from mdtraj) (2.4.7)\n",
      "Requirement already satisfied: astunparse in /home/ac7407/.local/lib/python3.8/site-packages (from mdtraj) (1.6.3)\n",
      "Requirement already satisfied: scipy in /share/apps/python/3.8.6/intel/lib/python3.8/site-packages/scipy-1.5.2-py3.8-linux-x86_64.egg (from mdtraj) (1.5.2)\n",
      "Requirement already satisfied: six<2.0,>=1.6.1 in /share/apps/python/3.8.6/intel/lib/python3.8/site-packages (from astunparse->mdtraj) (1.15.0)\n",
      "Requirement already satisfied: wheel<1.0,>=0.23.0 in /share/apps/python/3.8.6/intel/lib/python3.8/site-packages (from astunparse->mdtraj) (0.35.1)\n",
      "\u001b[33mWARNING: You are using pip version 20.2.3; however, version 22.2.2 is available.\n",
      "You should consider upgrading via the '/share/apps/python/3.8.6/intel/bin/python -m pip install --upgrade pip' command.\u001b[0m\n",
      "Note: you may need to restart the kernel to use updated packages.\n"
     ]
    }
   ],
   "source": [
    "pip install mdtraj"
   ]
  },
  {
   "cell_type": "code",
   "execution_count": 4,
   "metadata": {},
   "outputs": [
    {
     "name": "stdout",
     "output_type": "stream",
     "text": [
      "<mdtraj.Trajectory with 1 frames, 1405 atoms, 134 residues, and unitcells>\n",
      "Total number of hydrogen bonds:  57\n",
      "Number of helical amino acids:  18\n"
     ]
    }
   ],
   "source": [
    "# import mdtraj as md\n",
    "import mdtraj as md\n",
    "import mdtraj.testing\n",
    "\n",
    "# open .pdb file and load into mdtraj\n",
    "pdb = md.load_pdb('1UBQ_processed.pdb')\n",
    "\n",
    "# read structure of ubiquitin\n",
    "print(pdb)\n",
    "\n",
    "# print total number of hydrogen bonds\n",
    "hbonds = md.baker_hubbard(pdb, periodic=False)\n",
    "label = lambda hbond : '%s -- %s' % (pdb.topology.atom(hbond[0]), pdb.topology.atom(hbond[2]))\n",
    "counter = 0\n",
    "for hbond in hbonds:\n",
    "    counter = counter + 1\n",
    "\n",
    "print('Total number of hydrogen bonds: ', counter)\n",
    "\n",
    "# compute the number of residues (helical amino acids) in ubiquitin\n",
    "# find secondary structure of ubiquitin\n",
    "ss = md.compute_dssp(pdb)\n",
    "\n",
    "# count number of helical amino acid in secondary structure\n",
    "helix = 0\n",
    "for i in range(len(ss[0])):\n",
    "    if ss[0][i] == 'H':\n",
    "        helix = helix + 1\n",
    "\n",
    "# print number of helical amino acids\n",
    "print('Number of helical amino acids: ', helix)"
   ]
  },
  {
   "cell_type": "code",
   "execution_count": null,
   "metadata": {},
   "outputs": [],
   "source": []
  }
 ],
 "metadata": {
  "kernelspec": {
   "display_name": "Python 3",
   "language": "python",
   "name": "python3"
  },
  "language_info": {
   "codemirror_mode": {
    "name": "ipython",
    "version": 3
   },
   "file_extension": ".py",
   "mimetype": "text/x-python",
   "name": "python",
   "nbconvert_exporter": "python",
   "pygments_lexer": "ipython3",
   "version": "3.8.6"
  }
 },
 "nbformat": 4,
 "nbformat_minor": 4
}
