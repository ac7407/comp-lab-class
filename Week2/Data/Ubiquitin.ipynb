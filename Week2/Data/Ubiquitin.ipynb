{
 "cells": [
  {
   "cell_type": "code",
   "execution_count": 7,
   "metadata": {},
   "outputs": [
    {
     "name": "stdout",
     "output_type": "stream",
     "text": [
      "Defaulting to user installation because normal site-packages is not writeable\n",
      "Collecting mdtraj\n",
      "  Downloading mdtraj-1.9.7.tar.gz (2.1 MB)\n",
      "\u001b[K     |████████████████████████████████| 2.1 MB 41.7 MB/s eta 0:00:01\n",
      "\u001b[?25h  Installing build dependencies ... \u001b[?25ldone\n",
      "\u001b[?25h  Getting requirements to build wheel ... \u001b[?25ldone\n",
      "\u001b[?25h    Preparing wheel metadata ... \u001b[?25ldone\n",
      "\u001b[?25hRequirement already satisfied: numpy>=1.6 in /share/apps/python/3.8.6/intel/lib/python3.8/site-packages/numpy-1.19.2-py3.8-linux-x86_64.egg (from mdtraj) (1.19.2)\n",
      "Collecting astunparse\n",
      "  Downloading astunparse-1.6.3-py2.py3-none-any.whl (12 kB)\n",
      "Requirement already satisfied: scipy in /share/apps/python/3.8.6/intel/lib/python3.8/site-packages/scipy-1.5.2-py3.8-linux-x86_64.egg (from mdtraj) (1.5.2)\n",
      "Requirement already satisfied: pyparsing in /share/apps/python/3.8.6/intel/lib/python3.8/site-packages (from mdtraj) (2.4.7)\n",
      "Requirement already satisfied: six<2.0,>=1.6.1 in /share/apps/python/3.8.6/intel/lib/python3.8/site-packages (from astunparse->mdtraj) (1.15.0)\n",
      "Requirement already satisfied: wheel<1.0,>=0.23.0 in /share/apps/python/3.8.6/intel/lib/python3.8/site-packages (from astunparse->mdtraj) (0.35.1)\n",
      "Building wheels for collected packages: mdtraj\n",
      "  Building wheel for mdtraj (PEP 517) ... \u001b[?25ldone\n",
      "\u001b[?25h  Created wheel for mdtraj: filename=mdtraj-1.9.7-cp38-cp38-linux_x86_64.whl size=7785146 sha256=1147db513229bb63a507ef78289582ec1b1d7aa9538253148baaf8d29fa2e403\n",
      "  Stored in directory: /home/ac7407/.cache/pip/wheels/68/ff/96/5d9a2efac5e5918e5c8fd799e8703e2f8b804a029bcbbd2431\n",
      "Successfully built mdtraj\n",
      "Installing collected packages: astunparse, mdtraj\n",
      "Successfully installed astunparse-1.6.3 mdtraj-1.9.7\n",
      "\u001b[33mWARNING: You are using pip version 20.2.3; however, version 22.2.2 is available.\n",
      "You should consider upgrading via the '/share/apps/python/3.8.6/intel/bin/python -m pip install --upgrade pip' command.\u001b[0m\n",
      "Note: you may need to restart the kernel to use updated packages.\n"
     ]
    }
   ],
   "source": [
    "pip install mdtraj"
   ]
  },
  {
   "cell_type": "code",
   "execution_count": 1,
   "metadata": {},
   "outputs": [
    {
     "name": "stdout",
     "output_type": "stream",
     "text": [
      "<mdtraj.Trajectory with 1 frames, 1405 atoms, 134 residues, and unitcells>\n",
      "Total number of hydrogen bonds:  57\n",
      "Total number of residues:  134\n"
     ]
    }
   ],
   "source": [
    "# import mdtraj as md\n",
    "import mdtraj as md\n",
    "import mdtraj.testing\n",
    "\n",
    "# open .pdb file and load into mdtraj\n",
    "pdb = md.load_pdb('1UBQ_processed.pdb')\n",
    "\n",
    "# read structure of ubiquitin\n",
    "print(pdb)\n",
    "\n",
    "# print total number of hydrogen bonds\n",
    "hbonds = md.baker_hubbard(pdb, periodic=False)\n",
    "label = lambda hbond : '%s -- %s' % (pdb.topology.atom(hbond[0]), pdb.topology.atom(hbond[2]))\n",
    "counter = 0\n",
    "for hbond in hbonds:\n",
    "    counter = counter + 1\n",
    "\n",
    "print('Total number of hydrogen bonds: ', counter)\n",
    "\n",
    "# compute the number of residues (helical amino acids) in ubiquitin\n",
    "residues = pdb.topology.residues\n",
    "counter = 0\n",
    "for residue in residues:\n",
    "    counter = counter + 1\n",
    "\n",
    "print('Total number of residues: ', counter)"
   ]
  },
  {
   "cell_type": "code",
   "execution_count": null,
   "metadata": {},
   "outputs": [],
   "source": []
  }
 ],
 "metadata": {
  "kernelspec": {
   "display_name": "Python 3",
   "language": "python",
   "name": "python3"
  },
  "language_info": {
   "codemirror_mode": {
    "name": "ipython",
    "version": 3
   },
   "file_extension": ".py",
   "mimetype": "text/x-python",
   "name": "python",
   "nbconvert_exporter": "python",
   "pygments_lexer": "ipython3",
   "version": "3.8.6"
  }
 },
 "nbformat": 4,
 "nbformat_minor": 4
}
