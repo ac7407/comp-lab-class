{
 "cells": [
  {
   "cell_type": "code",
   "execution_count": null,
   "metadata": {},
   "outputs": [],
   "source": [
    "# import modules\n",
    "import numpy as np\n",
    "import matplotlib.pyplot as plt\n",
    "import mdtraj as md\n",
    "\n",
    "# experimental results of Streptavidin using Colabfold with highest ranked model\n",
    "# read in the trajectory and obtain the topology\n",
    "exp_result = md.load('/scratch/work/courses/CHEM-GA-2671-2022fa/ac7407/comp-class/comp-lab-class/Week7/test_76ce1_unrelaxed_rank_1_model_3.pdb')\n",
    "exp_topology = exp_result.topology\n",
    "\n",
    "# select indices of the atoms in the path (Cα atoms, backbone, side-chains)\n",
    "exp_alpha_carbon_indices = exp_topology.select('name CA')\n",
    "exp_backbone_indices = exp_topology.select('backbone')\n",
    "exp_side_chain_indices = exp_topology.select('sidechain')\n",
    "\n",
    "# compare with reference structure of Strepavidin obtained from Protein Data Bank\n",
    "# read in the trajectory and obtain the topology\n",
    "ref_result = md.load('/scratch/work/courses/CHEM-GA-2671-2022fa/ac7407/comp-class/comp-lab-class/Week7/3ry2.pdb')\n",
    "ref_topology = ref_result.topology\n",
    "\n",
    "# select indices of the atoms in the path (Cα atoms, backbone, side-chains)\n",
    "ref_alpha_carbon_indices = ref_topology.select('name CA')\n",
    "ref_backbone_indices = ref_topology.select('backbone')\n",
    "ref_side_chain_indices = ref_topology.select('sidechain')\n",
    "\n",
    "# calculate the RMSD between the experimental and reference structures for the Cα atoms, backbone, and side-chains\n",
    "exp_alpha_carbon_rmsd = md.rmsd(exp_result, ref_result, atom_indices=exp_alpha_carbon_indices)\n",
    "exp_backbone_rmsd = md.rmsd(exp_result, ref_result, atom_indices=exp_backbone_indices)\n",
    "exp_side_chain_rmsd = md.rmsd(exp_result, ref_result, atom_indices=exp_side_chain_indices)\n",
    "\n",
    "# print results\n",
    "print('RMSD between experimental and reference structures for alpha-Carbon atoms: ', exp_alpha_carbon_rmsd)\n",
    "print('RMSD between experimental and reference structures for backbone: ', exp_backbone_rmsd)\n",
    "print('RMSD between experimental and reference structures for side-chains: ', exp_side_chain_rmsd)\n"
   ]
  },
  {
   "cell_type": "code",
   "execution_count": null,
   "metadata": {},
   "outputs": [],
   "source": [
    "# load experimental results of Streptavidin using AlphaFold2\n",
    "# read in the trajectory for models 1-5 and obtain the topology\n",
    "exp_result_1 = md.load('/scratch/work/courses/CHEM-GA-2671-2022fa/ac7407/comp-class/comp-lab-class/Week7/rcsb_pdb_3RY2/unrelaxed_model_1_pred_0.pdb')\n",
    "exp_result_2 = md.load('/scratch/work/courses/CHEM-GA-2671-2022fa/ac7407/comp-class/comp-lab-class/Week7/rcsb_pdb_3RY2/unrelaxed_model_2_pred_0.pdb')\n",
    "exp_result_3 = md.load('/scratch/work/courses/CHEM-GA-2671-2022fa/ac7407/comp-class/comp-lab-class/Week7/rcsb_pdb_3RY2/unrelaxed_model_3_pred_0.pdb')\n",
    "exp_result_4 = md.load('/scratch/work/courses/CHEM-GA-2671-2022fa/ac7407/comp-class/comp-lab-class/Week7/rcsb_pdb_3RY2/unrelaxed_model_4_pred_0.pdb')\n",
    "exp_result_5 = md.load('/scratch/work/courses/CHEM-GA-2671-2022fa/ac7407/comp-class/comp-lab-class/Week7/rcsb_pdb_3RY2/unrelaxed_model_5_pred_0.pdb')\n",
    "\n",
    "# create list of RMSD values for each model to be appended to in for loop\n",
    "exp_alpha_carbon_rmsd = []\n",
    "exp_backbone_rmsd = []\n",
    "exp_side_chain_rmsd = []\n",
    "\n",
    "# iterate through the models and select indices of the atoms in the path (Cα atoms, backbone, side-chains)\n",
    "# calcualte the RMSD between the experimental and reference structures for the Cα atoms, backbone, and side-chains\n",
    "# append RMSD values to list and print RMSD values\n",
    "for i in range(1,6):\n",
    "    exp_topology = eval('exp_result_' + str(i)).topology\n",
    "    exp_alpha_carbon_indices = exp_topology.select('name CA')\n",
    "    exp_backbone_indices = exp_topology.select('backbone')\n",
    "    exp_side_chain_indices = exp_topology.select('sidechain')\n",
    "    exp_alpha_carbon_rmsd.append(md.rmsd(eval('exp_result_' + str(i)), ref_result, atom_indices=exp_alpha_carbon_indices))\n",
    "    exp_backbone_rmsd.append(md.rmsd(eval('exp_result_' + str(i)), ref_result, atom_indices=exp_backbone_indices))\n",
    "    exp_side_chain_rmsd.append(md.rmsd(eval('exp_result_' + str(i)), ref_result, atom_indices=exp_side_chain_indices))\n",
    "    print('RMSD between experimental and reference structures for alpha-Carbon atoms for model ' + str(i) + ': ', exp_alpha_carbon_rmsd[i-1])\n",
    "    print('RMSD between experimental and reference structures for backbone for model ' + str(i) + ': ', exp_backbone_rmsd[i-1])\n",
    "    print('RMSD between experimental and reference structures for side-chains for model ' + str(i) + ': ', exp_side_chain_rmsd[i-1])\n",
    "    print('')\n"
   ]
  },
  {
   "cell_type": "code",
   "execution_count": null,
   "metadata": {},
   "outputs": [],
   "source": [
    "# create a bar chart of RMSD of Cα atoms for each model of AlphaFold2\n",
    "# only accept size-1 arrays\n",
    "exp_alpha_carbon_rmsd = np.array(exp_alpha_carbon_rmsd)\n",
    "exp_alpha_carbon_rmsd = exp_alpha_carbon_rmsd.reshape(5,)\n",
    "\n",
    "# create bar chart and scale y-axis between 0.8-1.0\n",
    "plt.bar(['Model 1', 'Model 2', 'Model 3', 'Model 4', 'Model 5'], exp_alpha_carbon_rmsd)\n",
    "plt.ylim(0.8, 1.0)\n",
    "plt.xlabel('Model')\n",
    "plt.ylabel('RMSD (nm)')\n",
    "plt.title('RMSD of Cα atoms for each model of AlphaFold2')\n",
    "plt.show()\n"
   ]
  },
  {
   "cell_type": "code",
   "execution_count": null,
   "metadata": {},
   "outputs": [],
   "source": [
    "# create a bar chart of RMSD of backbone for each model of AlphaFold2\n",
    "# only accept size-1 arrays\n",
    "exp_backbone_rmsd = np.array(exp_backbone_rmsd)\n",
    "exp_backbone_rmsd = exp_backbone_rmsd.reshape(5,)\n",
    "\n",
    "# create bar chart and scale y-axis between 0.8-1.0\n",
    "plt.bar(['Model 1', 'Model 2', 'Model 3', 'Model 4', 'Model 5'], exp_backbone_rmsd)\n",
    "plt.ylim(0.8, 1.0)\n",
    "plt.xlabel('Model')\n",
    "plt.ylabel('RMSD (nm)')\n",
    "plt.title('RMSD of backbone for each model of AlphaFold2')\n",
    "plt.show()\n"
   ]
  },
  {
   "cell_type": "code",
   "execution_count": null,
   "metadata": {},
   "outputs": [],
   "source": [
    "# create a bar chart of RMSD of side-chains for each model of AlphaFold2\n",
    "# only accept size-1 arrays\n",
    "exp_side_chain_rmsd = np.array(exp_side_chain_rmsd)\n",
    "exp_side_chain_rmsd = exp_side_chain_rmsd.reshape(5,)\n",
    "\n",
    "# create bar chart and scale y-axis between 0.8-1.0\n",
    "plt.bar(['Model 1', 'Model 2', 'Model 3', 'Model 4', 'Model 5'], exp_side_chain_rmsd)\n",
    "plt.ylim(0.8, 1.0)\n",
    "plt.xlabel('Model')\n",
    "plt.ylabel('RMSD (nm)')\n",
    "plt.title('RMSD of side-chains for each model of AlphaFold2')\n",
    "plt.show()\n"
   ]
  },
  {
   "cell_type": "code",
   "execution_count": null,
   "metadata": {},
   "outputs": [],
   "source": [
    "# intepretation of results\n",
    "print(\"Based on the above figures, it appears that comparing the RMSD calculations obtained from AlphaFold2 and ColabFold\")\n",
    "print(\"It appears that these two methods of predicting protein structures are very similar in their predictions\")\n"
   ]
  },
  {
   "cell_type": "code",
   "execution_count": null,
   "metadata": {},
   "outputs": [],
   "source": [
    "print(\"Model 2 is the most accurate model for Streptavidin, since it has the highest confidence score according to the ranking_debug.json file.\")\n",
    "print(\"We should also be confident in the predictions of residues 1-124\")\n"
   ]
  },
  {
   "cell_type": "code",
   "execution_count": null,
   "metadata": {},
   "outputs": [],
   "source": []
  }
 ],
 "metadata": {
  "kernelspec": {
   "display_name": "Python 3.8.9 64-bit",
   "language": "python",
   "name": "python3"
  },
  "language_info": {
   "name": "python",
   "version": "3.8.9"
  },
  "orig_nbformat": 4,
  "vscode": {
   "interpreter": {
    "hash": "31f2aee4e71d21fbe5cf8b01ff0e069b9275f58929596ceb00d14d90e3e16cd6"
   }
  }
 },
 "nbformat": 4,
 "nbformat_minor": 2
}
